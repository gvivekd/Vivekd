{
 "cells": [
  {
   "cell_type": "code",
   "execution_count": null,
   "id": "8b6a2ad4",
   "metadata": {},
   "outputs": [],
   "source": [
    "data= \"Welcome to the Data science world\""
   ]
  },
  {
   "cell_type": "code",
   "execution_count": 2,
   "id": "bb2837f1",
   "metadata": {},
   "outputs": [
    {
     "name": "stdout",
     "output_type": "stream",
     "text": [
      "My name is Vivek Dongre\n"
     ]
    }
   ],
   "source": [
    "a=\"My name is Vivek Dongre\"\n",
    "print(a)"
   ]
  },
  {
   "cell_type": "code",
   "execution_count": 4,
   "id": "b3be8e89",
   "metadata": {},
   "outputs": [
    {
     "name": "stdout",
     "output_type": "stream",
     "text": [
      "I live in MHOW\n"
     ]
    }
   ],
   "source": [
    "b= \"I live in MHOW\"\n",
    "print(b)"
   ]
  },
  {
   "cell_type": "code",
   "execution_count": null,
   "id": "c6593552",
   "metadata": {},
   "outputs": [],
   "source": []
  }
 ],
 "metadata": {
  "kernelspec": {
   "display_name": "Python 3 (ipykernel)",
   "language": "python",
   "name": "python3"
  },
  "language_info": {
   "codemirror_mode": {
    "name": "ipython",
    "version": 3
   },
   "file_extension": ".py",
   "mimetype": "text/x-python",
   "name": "python",
   "nbconvert_exporter": "python",
   "pygments_lexer": "ipython3",
   "version": "3.10.9"
  }
 },
 "nbformat": 4,
 "nbformat_minor": 5
}
